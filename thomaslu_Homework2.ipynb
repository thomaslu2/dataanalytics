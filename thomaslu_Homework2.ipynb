{
 "cells": [
  {
   "cell_type": "markdown",
   "metadata": {
    "deletable": false,
    "editable": false,
    "nbgrader": {
     "checksum": "dee16540a65538bd492d2cdd22374ad2",
     "grade": false,
     "grade_id": "cell-186184fb7fd8389c",
     "locked": true,
     "schema_version": 1,
     "solution": false
    }
   },
   "source": [
    "**Homework 2**\n",
    "\n",
    "In this homework you will practice using Python for file text processing and data list transformations. Make sure to read the HW requirements at the end of the notebook first. The 5 problems build on each other, so its OK to use results from a previous problem in a later problem."
   ]
  },
  {
   "cell_type": "markdown",
   "metadata": {},
   "source": [
    "**Enter your name:**  Thomas Lu\n",
    "\n",
    "**Enter your PID:**  thomaslu\n",
    "\n",
    "I have neither given nor received unauthorized assistance on this assignment."
   ]
  },
  {
   "cell_type": "markdown",
   "metadata": {
    "deletable": false,
    "editable": false,
    "nbgrader": {
     "checksum": "4b5fa1af3658ae8137df862465d74973",
     "grade": false,
     "grade_id": "cell-5003c9e1b8307aa8",
     "locked": true,
     "schema_version": 1,
     "solution": false
    }
   },
   "source": [
    "**Problem 1.** Using Python, read in the data in the given \"counties.csv\" file (download from the Canvas HW2 page). Represent the data table in the form of a python list of tuples, where each tuple represents a county and contains the 8 column values for that county. Use appropriate data types for each column.  Preserve the order of the counties and attributes from the file. Do not include the header line as a tuple in your answer. You are not allowed to use CSV parsing libraries, you must parse the file yourself using functions like .read(), .split(), .splitlines(), etc."
   ]
  },
  {
   "cell_type": "code",
   "execution_count": 1,
   "metadata": {
    "deletable": false,
    "nbgrader": {
     "checksum": "d299e4cc7b4081c2e47cae61c89878f8",
     "grade": false,
     "grade_id": "Q1",
     "locked": false,
     "schema_version": 1,
     "solution": true
    }
   },
   "outputs": [
    {
     "name": "stdout",
     "output_type": "stream",
     "text": [
      "[('Aleutians East', 'AK', 2305, 12.9, 20114, 1410, 6693, 518), ('Aleutians West', 'AK', 5259, 14.8, 20298, 4321, 24233, 428), ('Anchorage', 'AK', 251335, 26.9, 26619, 93037, 2612640, 528), ('Bethel', 'AK', 15525, 13.1, 15493, 2269, 59687, 460), ('Bristol Bay', 'AK', 1023, 18.9, 29699, 392, 9653, 464)] [('Sweetwater', 'WY', 40976, 13.3, 19767, 14141, 343920, 279), ('Teton', 'WY', 13444, 30.0, 35983, 10359, 251764, 392), ('Uinta', 'WY', 20087, 14.3, 16105, 4928, 135950, 258), ('Washakie', 'WY', 8657, 18.4, 18342, 2598, 57057, 236), ('Weston', 'WY', 6506, 12.7, 20620, 1734, 39019, 217)]\n"
     ]
    }
   ],
   "source": [
    "# Problem 1:\n",
    "Answer1 = []  # Do not edit this line.\n",
    "file = open('counties.csv')  # Do not edit this line.\n",
    "\n",
    "# YOUR CODE HERE\n",
    "result = []\n",
    "next(file)\n",
    "for line in file:\n",
    "    fields = line.split(',')\n",
    "    fields[-1] = fields[-1].strip()\n",
    "    result.append((str(fields[0]),str(fields[1]),int(fields[2]),float(fields[3]),int(fields[4]), int(fields[5]), int(fields[6]), int(fields[7])))\n",
    "# raise NotImplementedError(\"Assign result to variable Answer 1\")\n",
    "# Assign your result to variable Answer1.\n",
    "Answer1 = result\n",
    "tuple(Answer1)\n",
    "\n",
    "print(Answer1[:5], Answer1[-5:])  # Do not edit this line."
   ]
  },
  {
   "cell_type": "code",
   "execution_count": 2,
   "metadata": {
    "deletable": false,
    "editable": false,
    "nbgrader": {
     "checksum": "96f0f4753163890fb4cab7392827964e",
     "grade": true,
     "grade_id": "A1",
     "locked": true,
     "points": 20,
     "schema_version": 1,
     "solution": false
    }
   },
   "outputs": [],
   "source": [
    "# Autograder \n",
    "import nose.tools\n",
    "nose.tools.assert_equal(len(Answer1), 3140)\n",
    "nose.tools.assert_equal(Answer1[0], ('Aleutians East', 'AK', 2305, 12.9, 20114, 1410, 6693, 518))\n",
    "nose.tools.assert_equal(Answer1[-1], ('Weston', 'WY', 6506, 12.7, 20620, 1734, 39019, 217))\n",
    "# Hidden tests here"
   ]
  },
  {
   "cell_type": "markdown",
   "metadata": {
    "deletable": false,
    "editable": false,
    "nbgrader": {
     "checksum": "d25ba8d2f332eb69ad32a78995b093fa",
     "grade": false,
     "grade_id": "cell-c15f1c1e5c3df01f",
     "locked": true,
     "schema_version": 1,
     "solution": false
    }
   },
   "source": [
    "**Problem 2.** Which counties are most/least educated?  Sort the list of tuples from problem 1 according to the \"PercentCollegeGrad\" attribute in descending order."
   ]
  },
  {
   "cell_type": "code",
   "execution_count": 3,
   "metadata": {
    "deletable": false,
    "nbgrader": {
     "checksum": "f0b96cf9218c978a4aa1d3483c0e9d4f",
     "grade": false,
     "grade_id": "Q2",
     "locked": false,
     "schema_version": 1,
     "solution": true
    }
   },
   "outputs": [
    {
     "name": "stdout",
     "output_type": "stream",
     "text": [
      "[('Los Alamos', 'NM', 18604, 53.4, 28753, 6369, 83922, 403), ('Falls Chruch', 'VA', 9617, 52.8, 0, 12052, 236246, 769), ('Arlington', 'VA', 172660, 52.3, 34216, 100896, 1588830, 678), ('Montgomery', 'MD', 809569, 49.9, 34299, 328052, 7396838, 698), ('Pitkin', 'CO', 13589, 49.8, 39481, 14749, 292946, 663)] [('Van Buren', 'TN', 5095, 4.1, 10718, 864, 6944, 132), ('Loving', 'TX', 140, 4.0, 29643, 0, 0, 175), ('Morgan', 'TN', 18280, 3.7, 11375, 1880, 33539, 165), ('Menominee', 'WI', 4601, 3.7, 0, 408, 4414, 103), ('Yellowstone National Park (Part)', 'MT', 54, 0.0, 0, 0, 0, 207)]\n"
     ]
    }
   ],
   "source": [
    "# Problem 2\n",
    "Answer2 = []  # Do not edit this line.\n",
    "\n",
    "# YOUR CODE HERE\n",
    "\n",
    "result2 = sorted(Answer1, key=lambda x: x[3], reverse=True)\n",
    "#raise NotImplementedError()\n",
    "# Assign your result to variable Answer2.\n",
    "Answer2 = result2\n",
    "tuple(Answer2)\n",
    "\n",
    "print(Answer2[:5], Answer2[-5:])  # Do not edit this line."
   ]
  },
  {
   "cell_type": "code",
   "execution_count": 4,
   "metadata": {
    "deletable": false,
    "editable": false,
    "nbgrader": {
     "checksum": "b97187b96cc3502ccfea56dec53d4056",
     "grade": true,
     "grade_id": "A2",
     "locked": true,
     "points": 20,
     "schema_version": 1,
     "solution": false
    }
   },
   "outputs": [],
   "source": [
    "# Autograder \n",
    "nose.tools.assert_equal(len(Answer2), 3140)\n",
    "nose.tools.assert_greater_equal(Answer2[0][3], Answer2[1][3])\n",
    "# Hidden tests here"
   ]
  },
  {
   "cell_type": "markdown",
   "metadata": {
    "deletable": false,
    "editable": false,
    "nbgrader": {
     "checksum": "ac06a0cac31fe7c402479e8003c19aa5",
     "grade": false,
     "grade_id": "cell-ad4ac0e8560dab0a",
     "locked": true,
     "schema_version": 1,
     "solution": false
    }
   },
   "source": [
    "**Problem 3.** What is the mean and standard deviation of the education levels?  Compute a  pair (mu, signma) containing the mean (mu) and standard deviation (sigma) of the \"PercentCollegeGrad\" attribute over all counties. You are not allowed to use library functions for mean and standard deviation.  You must compute them yourself using the following definitions (N = number of tuples):\n",
    "![formula](https://wikimedia.org/api/rest_v1/media/math/render/svg/32e3c0f27c2595926963cc5d8df113e6a12cf917)\n",
    "https://wikimedia.org/api/rest_v1/media/math/render/svg/32e3c0f27c2595926963cc5d8df113e6a12cf917"
   ]
  },
  {
   "cell_type": "code",
   "execution_count": 5,
   "metadata": {
    "deletable": false,
    "nbgrader": {
     "checksum": "54c404c8444dd0ba51f0b2581387f9db",
     "grade": false,
     "grade_id": "Q3",
     "locked": false,
     "schema_version": 1,
     "solution": true
    }
   },
   "outputs": [
    {
     "name": "stdout",
     "output_type": "stream",
     "text": [
      "[13.515859872611484, 6.5737072832103385]\n"
     ]
    }
   ],
   "source": [
    "# Problem 3\n",
    "from math import sqrt\n",
    "Answer3 = (0.0,0.0)  # Do not edit this line.\n",
    "\n",
    "# YOUR CODE HERE\n",
    "result3 = []\n",
    "percentGrad = []\n",
    "sum3 = 0\n",
    "file = open('counties.csv')\n",
    "next(file)\n",
    "for line in file:\n",
    "    fields = line.split(',')\n",
    "    fields[-1] = fields[-1].strip()\n",
    "    percentGrad.append(float(fields[3]))\n",
    "    sum3 = sum3 + float(fields[3])\n",
    "mean3 = sum3/len(Answer1)\n",
    "stddev = sqrt((sum((i - mean3) ** 2 for i in percentGrad))/len(Answer1))\n",
    "\n",
    "result3.append(mean3)\n",
    "result3.append(stddev)\n",
    "#raise NotImplementedError()\n",
    "# Assign your result to variable Answer3.\n",
    "Answer3 = result3\n",
    "\n",
    "print(Answer3)  # Do not edit this line."
   ]
  },
  {
   "cell_type": "code",
   "execution_count": 6,
   "metadata": {
    "deletable": false,
    "editable": false,
    "nbgrader": {
     "checksum": "8321d63a76c116033411272781c510a4",
     "grade": true,
     "grade_id": "A3a",
     "locked": true,
     "points": 10,
     "schema_version": 1,
     "solution": false
    }
   },
   "outputs": [],
   "source": [
    "# Autograder \n",
    "nose.tools.assert_equal(len(Answer3), 2)\n",
    "# Hidden tests here"
   ]
  },
  {
   "cell_type": "code",
   "execution_count": 7,
   "metadata": {
    "deletable": false,
    "editable": false,
    "nbgrader": {
     "checksum": "2d4907a08581126a363220bd98355d40",
     "grade": true,
     "grade_id": "A3b",
     "locked": true,
     "points": 10,
     "schema_version": 1,
     "solution": false
    }
   },
   "outputs": [],
   "source": [
    "# Autograder \n",
    "# Hidden tests here"
   ]
  },
  {
   "cell_type": "markdown",
   "metadata": {
    "deletable": false,
    "editable": false,
    "nbgrader": {
     "checksum": "dff538795bd56315a15b61be74e35c01",
     "grade": false,
     "grade_id": "cell-c651e607fff58b75",
     "locked": true,
     "schema_version": 1,
     "solution": false
    }
   },
   "source": [
    "**Problem 4.** Which counties are outliers in education level?  Generate a list of counties that are outliers on the \"PercentCollegeGrad\" attribute, ordered according to the file, with tuples containing only the Name, State, PercentCollegeGrad attributes. Outliers are defined as values outside of:  mu +- 2*sigma ."
   ]
  },
  {
   "cell_type": "code",
   "execution_count": 8,
   "metadata": {
    "deletable": false,
    "nbgrader": {
     "checksum": "d038922b9636ca17959c9b3915704c2e",
     "grade": false,
     "grade_id": "Q4",
     "locked": false,
     "schema_version": 1,
     "solution": true
    }
   },
   "outputs": [
    {
     "name": "stdout",
     "output_type": "stream",
     "text": [
      "[('Anchorage', 'AK', 26.9), ('Juneau', 'AK', 30.7), ('Madison', 'AL', 30.1), ('Shelby', 'AL', 29.0), ('Alameda', 'CA', 28.8), ('Contra Costa', 'CA', 31.6), ('Marin', 'CA', 44.0), ('Orange', 'CA', 27.8), ('San Francisco', 'CA', 35.0), ('San Mateo', 'CA', 31.3), ('Santa Clara', 'CA', 32.6), ('Santa Cruz', 'CA', 29.7), ('Yolo', 'CA', 30.3), ('Arapahoe', 'CO', 35.2), ('Boulder', 'CO', 42.1), ('Clear Creek', 'CO', 31.2), ('Denver', 'CO', 29.0), ('Douglas', 'CO', 40.7), ('Eagle', 'CO', 33.0), ('Gilpin', 'CO', 29.5), ('Grand', 'CO', 30.2), ('Gunnison', 'CO', 36.9), ('Hinsdale', 'CO', 32.0), ('Jefferson', 'CO', 30.7), ('La Plata', 'CO', 28.1), ('Larimer', 'CO', 32.3), ('Ouray', 'CO', 27.9), ('Pitkin', 'CO', 49.8), ('Routt', 'CO', 34.7), ('San Miguel', 'CO', 40.3), ('Summit', 'CO', 39.7), ('Fairfield', 'CT', 34.2), ('Middlesex', 'CT', 28.2), ('Tolland', 'CT', 29.2), ('Washington', 'DC', 33.3), ('Alachua', 'FL', 34.6), ('Leon', 'FL', 37.1), ('Clarke', 'GA', 37.5), ('Cobb', 'GA', 33.0), ('De Kalb', 'GA', 32.7), ('Fulton', 'GA', 31.6), ('Gwinnett', 'GA', 29.6), ('Oconee', 'GA', 28.4), ('Johnson', 'IA', 44.0), ('Story', 'IA', 38.4), ('Blaine', 'ID', 33.0), ('Latah', 'ID', 35.8), ('Champaign', 'IL', 34.1), ('Du Page', 'IL', 36.0), ('Jackson', 'IL', 29.5), ('Lake', 'IL', 32.0), ('McLean', 'IL', 29.0), ('Hamilton', 'IN', 36.2), ('Monroe', 'IN', 32.9), ('Tippecanoe', 'IN', 30.7), ('Douglas', 'KS', 38.4), ('Johnson', 'KS', 40.5), ('Riley', 'KS', 34.3), ('Fayette', 'KY', 30.6), ('East Baton Rouge', 'LA', 27.5), ('Barnstable', 'MA', 28.1), ('Dukes', 'MA', 32.1), ('Hampshire', 'MA', 31.9), ('Middlesex', 'MA', 35.4), ('Nantucket', 'MA', 32.9), ('Norfolk', 'MA', 34.4), ('Suffolk', 'MA', 27.7), ('Howard', 'MD', 46.9), ('Montgomery', 'MD', 49.9), ('Cumberland', 'ME', 27.6), ('Ingham', 'MI', 29.2), ('Kalamazoo', 'MI', 27.1), ('Midland', 'MI', 27.4), ('Oakland', 'MI', 30.2), ('Washtenaw', 'MI', 41.9), ('Dakota', 'MN', 27.6), ('Hennepin', 'MN', 31.6), ('Olmsted', 'MN', 29.5), ('Ramsey', 'MN', 28.8), ('Boone', 'MO', 36.5), ('St. Louis', 'MO', 29.2), ('Lafayette', 'MS', 29.2), ('Madison', 'MS', 29.3), ('Oktibbeha', 'MS', 31.7), ('Gallatin', 'MT', 33.8), ('Lewis and Clark', 'MT', 27.8), ('Missoula', 'MT', 27.7), ('Yellowstone National Park (Part)', 'MT', 0.0), ('Durham', 'NC', 33.4), ('Mecklenburg', 'NC', 28.3), ('Orange', 'NC', 46.1), ('Wake', 'NC', 35.3), ('Watauga', 'NC', 27.4), ('Lancaster', 'NE', 27.6), ('Bergen', 'NJ', 31.7), ('Hunterdon', 'NJ', 34.6), ('Mercer', 'NJ', 29.5), ('Monmouth', 'NJ', 28.4), ('Morris', 'NJ', 36.7), ('Somerset', 'NJ', 38.3), ('Bernalillo', 'NM', 26.7), ('Los Alamos', 'NM', 53.4), ('Santa Fe', 'NM', 32.3), ('Albany', 'NY', 28.3), ('Nassau', 'NY', 30.0), ('New York', 'NY', 42.2), ('Putnam', 'NY', 27.8), ('Rockland', 'NY', 33.0), ('Tompkins', 'NY', 41.7), ('Westchester', 'NY', 35.3), ('Payne', 'OK', 30.1), ('Benton', 'OR', 41.3), ('Washington', 'OR', 29.8), ('Centre', 'PA', 32.3), ('Chester', 'PA', 34.7), ('Montgomery', 'PA', 32.1), ('Bristol', 'RI', 27.4), ('Newport', 'RI', 30.1), ('Washington', 'RI', 29.1), ('Richland', 'SC', 28.0), ('Brookings', 'SD', 27.3), ('Clay', 'SD', 36.3), ('Williamson', 'TN', 34.2), ('Brazos', 'TX', 35.8), ('Brewster', 'TX', 28.0), ('Collin', 'TX', 39.1), ('Denton', 'TX', 32.3), ('Fort Bend', 'TX', 30.2), ('Rockwall', 'TX', 28.5), ('Travis', 'TX', 34.7), ('Cache', 'UT', 30.0), ('Summit', 'UT', 32.9), ('Albemarle', 'VA', 39.4), ('Alexandria', 'VA', 48.5), ('Arlington', 'VA', 52.3), ('Charlottesville', 'VA', 34.1), ('Chesterfield', 'VA', 29.2), ('Fairfax', 'VA', 49.0), ('Fairfax City', 'VA', 41.3), ('Falls Chruch', 'VA', 52.8), ('Harrisonburg', 'VA', 28.7), ('Henrico', 'VA', 28.0), ('James City', 'VA', 32.9), ('Lexington', 'VA', 32.1), ('Loudoun', 'VA', 32.7), ('Montgomery', 'VA', 31.6), ('Poquoson City', 'VA', 29.4), ('Prince William', 'VA', 27.6), ('Radford', 'VA', 29.1), ('Williamsburg', 'VA', 42.9), ('York', 'VA', 28.9), ('Chittenden', 'VT', 34.0), ('King', 'WA', 32.8), ('San Juan', 'WA', 33.5), ('Whitman', 'WA', 42.6), ('Dane', 'WI', 34.2), ('Ozaukee', 'WI', 29.7), ('Waukesha', 'WI', 27.1), ('Monongalia', 'WV', 28.1), ('Albany', 'WY', 38.5), ('Teton', 'WY', 30.0)]\n"
     ]
    }
   ],
   "source": [
    "# Problem 4\n",
    "Answer4 = []  # Do not edit this line.\n",
    "\n",
    "# YOUR CODE HERE\n",
    "result4 = []\n",
    "outlier = []\n",
    "file = open('counties.csv')\n",
    "next(file)\n",
    "for line in file:\n",
    "    fields = line.split(',')\n",
    "    fields[-1] = fields[-1].strip()\n",
    "    if((float(fields[3]) > (mean3 + (2*stddev))) or (float(fields[3]) < (mean3 - (2*stddev)))):\n",
    "        outlier.append((str(fields[0]), str(fields[1]), float(fields[3]))) \n",
    "#raise NotImplementedError()\n",
    "# Assign your result to variable Answer4.\n",
    "Answer4 = outlier\n",
    "print(Answer4)  # Do not edit this line."
   ]
  },
  {
   "cell_type": "code",
   "execution_count": 9,
   "metadata": {
    "deletable": false,
    "editable": false,
    "nbgrader": {
     "checksum": "7a8a23fa78aef71800d3412c76e01cf6",
     "grade": true,
     "grade_id": "A4",
     "locked": true,
     "points": 20,
     "schema_version": 1,
     "solution": false
    }
   },
   "outputs": [],
   "source": [
    "# Autograder \n",
    "nose.tools.assert_equal(len(Answer4), 161)\n",
    "nose.tools.assert_equal(Answer4[0], ('Anchorage', 'AK', 26.9))\n",
    "# Hidden tests here"
   ]
  },
  {
   "cell_type": "markdown",
   "metadata": {
    "deletable": false,
    "editable": false,
    "nbgrader": {
     "checksum": "08767be32e8b0ca28714f33036bed280",
     "grade": false,
     "grade_id": "cell-daa0ba8966152690",
     "locked": true,
     "schema_version": 1,
     "solution": false
    }
   },
   "source": [
    "**Problem 5.** [Difficult] What are the total populations of each US state?  Generate a list of the total populations of each state. The list should contain tuples of the form (State, Population) and be sorted by increasing population. DC is considered a state. Hint: use Python's \"set\" data structure, and figure out how to filter out and sum each state's county populations. This can be solved in 1-3 lines of code."
   ]
  },
  {
   "cell_type": "code",
   "execution_count": 10,
   "metadata": {
    "deletable": false,
    "nbgrader": {
     "checksum": "5afa8fd56085091ea80df3265dc6320a",
     "grade": false,
     "grade_id": "Q5",
     "locked": false,
     "schema_version": 1,
     "solution": true
    }
   },
   "outputs": [
    {
     "name": "stdout",
     "output_type": "stream",
     "text": [
      "[('WY', 480184), ('DC', 554256), ('VT', 584771), ('AK', 601739), ('ND', 641367), ('DE', 717197), ('SD', 729034), ('MT', 870281), ('RI', 989794), ('NH', 1148253), ('ID', 1163261), ('HI', 1186724), ('ME', 1241382), ('NV', 1530108), ('NE', 1637112), ('NM', 1685401), ('WV', 1828140), ('UT', 1951408), ('AR', 2483769), ('KS', 2565328), ('MS', 2697243), ('IA', 2841764), ('OR', 3140585), ('CT', 3274662), ('OK', 3277687), ('SC', 3673287), ('CO', 3746585), ('KY', 3860219), ('AZ', 4217940), ('AL', 4252982), ('LA', 4342334), ('MN', 4609548), ('MD', 5042438), ('WI', 5122871), ('TN', 5256051), ('MO', 5323523), ('WA', 5430940), ('IN', 5803471), ('MA', 6073550), ('VA', 6618358), ('NC', 7195138), ('GA', 7200882), ('NJ', 7945298), ('MI', 9549353), ('OH', 11150506), ('IL', 11829940), ('PA', 12071842), ('FL', 14165570), ('NY', 18136081), ('TX', 18723991), ('CA', 31589153)]\n"
     ]
    }
   ],
   "source": [
    "# Problem 5\n",
    "Answer5 = []  # Do not edit this line.\n",
    "\n",
    "# YOUR CODE HERE\n",
    "states = []\n",
    "pop = []\n",
    "result5 = []\n",
    "file = open('counties.csv')\n",
    "next(file)\n",
    "for line in file:\n",
    "    fields = line.split(',')\n",
    "    fields[-1] = fields[-1].strip()\n",
    "    states.append(str(fields[1]))\n",
    "    pop.append(int(fields[2]))\n",
    "sum = 0\n",
    "for i in range(len(states) + 1):\n",
    "    if(i == 0):\n",
    "        sum = sum + pop[0]\n",
    "    elif(i == len(states)):\n",
    "        result5.append((str(states[i-1]), sum))\n",
    "    elif(states[i] == states[i-1]):\n",
    "        sum = sum + pop[i]\n",
    "    else:\n",
    "        result5.append((str(states[i-1]), sum))\n",
    "        sum = 0\n",
    "        sum = sum + pop[i]\n",
    "result5 = sorted(result5, key=lambda x: x[1], reverse=False)\n",
    "#raise NotImplementedError()\n",
    "# Assign your result to variable Answer5.\n",
    "Answer5 = result5\n",
    "\n",
    "\n",
    "print(Answer5)  # Do not edit this line."
   ]
  },
  {
   "cell_type": "code",
   "execution_count": 11,
   "metadata": {
    "deletable": false,
    "editable": false,
    "nbgrader": {
     "checksum": "263ce80e2367672e2464ca7f1bf14de3",
     "grade": true,
     "grade_id": "A5",
     "locked": true,
     "points": 20,
     "schema_version": 1,
     "solution": false
    }
   },
   "outputs": [],
   "source": [
    "# Autograder \n",
    "nose.tools.assert_equal(len(Answer5), 51)\n",
    "nose.tools.assert_equal(Answer5[0], ('WY', 480184))\n",
    "# Hidden tests here"
   ]
  },
  {
   "cell_type": "markdown",
   "metadata": {
    "deletable": false,
    "editable": false,
    "nbgrader": {
     "checksum": "ebd7ed5ac9908fb1fe20f8a074370b37",
     "grade": false,
     "grade_id": "cell-53f0b36b93fb49bc",
     "locked": true,
     "schema_version": 1,
     "solution": false
    }
   },
   "source": [
    "**Programming Requirements for this Homework:**\n",
    "All problems must be coded in Python, using lists and tuples. Libraries such as Numpy and Pandas are not allowed. \n",
    "To solve the problems, use map, reduce, filter, sort, slice transforms, as we discussed in class, such as python List Comprehensions.\n",
    "\n",
    "**Submission:**\n",
    "Complete the \"YOUR CODE HERE\" sections, and make sure all cells run correctly, including the Autograder cells.\n",
    "Submit your completed Python Notebook file (MyPID_Homework2.ipynb) on Canvas.\n",
    "\n",
    "\n",
    "**Honor Code:** (from the syllabus on Canvas in the Files tab)\n",
    "The Undergraduate Honor Code pledge that each member of the university community agrees to abide by states:\n",
    "“As a Hokie, I will conduct myself with honor and integrity at all times. I will not lie,\n",
    "cheat, or steal, nor will I accept the actions of those who do.”\n",
    "Students enrolled in this course are responsible for abiding by the Honor Code. A student who has doubts about how the Honor Code applies to any assignment is responsible for obtaining specific guidance from the course instructor before submitting the assignment for evaluation. Ignorance of the rules does not exclude any member of the University community from the requirements and expectations of the Honor Code. For additional information about the Honor Code, please visit: https://www.honorsystem.vt.edu/\n",
    "\n",
    "The Virginia Tech Honor Code applies to this course and will be strictly enforced. Unless otherwise indicated by the professor, all assignments and exams must be **completed strictly on an individual basis**. It is acceptable to discuss assignments with classmates in only a general way, and to help each other learn the concepts and programming languages. However, the student’s submitted work should represent his/her own ideas. Students are not allowed to copy answers, including lines of code, from each other.\n",
    "\n",
    "As mentioned above, program assignments are also considered individual work that allows you to demonstrate the skills you have learned. You may freely offer and receive verbal assistance on how to use the programming language, what library classes or methods do, what errors mean, or how to interpret assignment instructions with your classmates. However, **you may not share specific lines of code used to solve assignment problems**. You may not allow others to view your solution code on your screen or other medium, and you may not view other students’ solution code on their screens.\n",
    "\n",
    "Submitting an assignment in this class assumes agreement to the Virginia Tech honor pledge for assignments as follows: “I have neither given nor received unauthorized assistance on this assignment.”\n",
    "\n",
    "If you have questions or are unclear about what constitutes academic misconduct on an assignment, please speak with the instructor. The Honor Code is taken seriously in this course.\n"
   ]
  },
  {
   "cell_type": "code",
   "execution_count": 114,
   "metadata": {},
   "outputs": [],
   "source": [
    "# Ungraded scratch space.  Do not create any new cells above this point.\n"
   ]
  }
 ],
 "metadata": {
  "kernelspec": {
   "display_name": "Python 3",
   "language": "python",
   "name": "python3"
  },
  "language_info": {
   "codemirror_mode": {
    "name": "ipython",
    "version": 3
   },
   "file_extension": ".py",
   "mimetype": "text/x-python",
   "name": "python",
   "nbconvert_exporter": "python",
   "pygments_lexer": "ipython3",
   "version": "3.6.5"
  }
 },
 "nbformat": 4,
 "nbformat_minor": 2
}
