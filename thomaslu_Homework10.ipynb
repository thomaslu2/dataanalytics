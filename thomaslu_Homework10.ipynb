{
 "cells": [
  {
   "cell_type": "markdown",
   "metadata": {
    "deletable": false,
    "editable": false,
    "nbgrader": {
     "checksum": "de0fbbb9d12039b01c3dbc2d5ad83493",
     "grade": false,
     "grade_id": "cell-22112081ad78adf8",
     "locked": true,
     "schema_version": 1,
     "solution": false
    }
   },
   "source": [
    "# Homework 10"
   ]
  },
  {
   "cell_type": "markdown",
   "metadata": {},
   "source": [
    "**Enter your Name:**  Thomas Lu\n",
    "    \n",
    "**Enter your PID:**  thomaslu\n",
    "    \n",
    "I have neither given nor received unauthorized assistance on this assignment."
   ]
  },
  {
   "cell_type": "code",
   "execution_count": 1,
   "metadata": {
    "deletable": false,
    "editable": false,
    "nbgrader": {
     "checksum": "bb9d957725da1ca3a853f9b31583596a",
     "grade": false,
     "grade_id": "cell-6c255253d255bab1",
     "locked": true,
     "schema_version": 1,
     "solution": false
    }
   },
   "outputs": [],
   "source": [
    "# Run this cell first.  Do NOT edit this cell.\n",
    "Answer1 = Answer2 = Answer3 = Answer4 = Answer5 = None\n",
    "import pandas\n",
    "import numpy\n",
    "import matplotlib.pyplot\n",
    "import nose.tools\n",
    "%matplotlib inline\n",
    "# Data files:\n",
    "data = pandas.read_csv('VT_tweets_2018_100K.csv').sort_values('datetime')\n",
    "positives = set(open('positive.txt').read().splitlines())\n",
    "negatives = set(open('negative.txt').read().splitlines())"
   ]
  },
  {
   "cell_type": "markdown",
   "metadata": {
    "deletable": false,
    "editable": false,
    "nbgrader": {
     "checksum": "b131235a8afd7f888209f445c11f88dc",
     "grade": false,
     "grade_id": "cell-18005aec767ef3b1",
     "locked": true,
     "schema_version": 1,
     "solution": false
    }
   },
   "source": [
    "*In this Homework you will conduct a sentiment analysis of the above VT twitter data to identify interesting events.*\n",
    "\n",
    "**Problem 1.** Analyze the tweet content by representing each tweet as a \"bag of words\". \n",
    "\n",
    "First, clean the tweet text by lowering any capitalization, and eliminating (replace with space char) all of the following 17 punctuation marks:  `.,!?:;\"'-~()[]|/\\`\n",
    "\n",
    "Then, split words by whitespace, and eliminate any words that are not all alpha (hint: string.isalpha( )).\n",
    "\n",
    "In Answer1, return a 6-tuple containing the following information:\n",
    "(the mean number of words per tweet,\n",
    " the list of words in the first tweet, \n",
    " the tweet text for the first-occuring fewest-word tweet, and its number of words, \n",
    " the tweet text for the first-occuring most-word tweet, and its number of words).\n"
   ]
  },
  {
   "cell_type": "code",
   "execution_count": 2,
   "metadata": {
    "deletable": false,
    "nbgrader": {
     "checksum": "ce8fd8f3fd3b2110e51ca37ee458224c",
     "grade": false,
     "grade_id": "Answer1",
     "locked": false,
     "schema_version": 1,
     "solution": true
    }
   },
   "outputs": [
    {
     "data": {
      "text/plain": [
       "(16.64741246105393,\n",
       " ['over', 'was', 'virginia', 'tech', 'syracuse'],\n",
       " '@virginianpilot @virginia @vpostrel @virginia_tech',\n",
       " 0,\n",
       " 'I wake up and think \"Oh god it wasn\\'t just a dream. Caleb is actually dead\" and I get up and go to work.I\\'m at V https://t.co/2v3i4DCfhy',\n",
       " 32)"
      ]
     },
     "execution_count": 2,
     "metadata": {},
     "output_type": "execute_result"
    }
   ],
   "source": [
    "# Problem 1\n",
    "# YOUR CODE HERE\n",
    "#raise NotImplementedError()\n",
    "\n",
    "data['clean'] = data.tweet.str.lower()\n",
    "\n",
    "for p in \".,!?:;\\\"'-~()[]|/\\\\\":\n",
    "    data['clean'] = data['clean'].str.replace(p,' ')\n",
    "data['words'] = data.clean.apply(lambda t:\n",
    "                [w for w in t.split() if w.isalpha()])\n",
    "total = 0\n",
    "maxtweetcount = 1\n",
    "mintweetcount = 10\n",
    "for i in range(len(data.words)):\n",
    "    total = total + len(data['words'][i])\n",
    "    if(len(data['words'][i]) > maxtweetcount):\n",
    "        maxtweetcount = len(data['words'][i])\n",
    "        tweetmax = data.tweet[i]\n",
    "    if(len(data['words'][i]) < mintweetcount):\n",
    "        mintweetcount = len(data['words'][i])\n",
    "        tweetmin = data.tweet[i]\n",
    "average = total/len(data.words)\n",
    "Answer1 = [average, data['words'][0], tweetmin, mintweetcount, tweetmax, maxtweetcount]\n",
    "Answer1 = tuple(Answer1)\n",
    "Answer1"
   ]
  },
  {
   "cell_type": "code",
   "execution_count": 3,
   "metadata": {
    "deletable": false,
    "editable": false,
    "nbgrader": {
     "checksum": "ce2215b7d60152aafb9b59d9e57ca437",
     "grade": true,
     "grade_id": "Grade1",
     "locked": true,
     "points": 20,
     "schema_version": 1,
     "solution": false
    }
   },
   "outputs": [
    {
     "data": {
      "text/plain": [
       "'passed'"
      ]
     },
     "execution_count": 3,
     "metadata": {},
     "output_type": "execute_result"
    }
   ],
   "source": [
    "# Problem 1 autograder -- run me\n",
    "nose.tools.assert_is_instance(Answer1, tuple)\n",
    "nose.tools.assert_equal(len(Answer1), 6)\n",
    "nose.tools.assert_almost_equal(Answer1[0], 16.64741246105393, delta=0.0001)\n",
    "nose.tools.assert_list_equal(sorted(list(Answer1[1])), \n",
    "                ['over', 'syracuse', 'tech', 'virginia', 'was'])\n",
    "# autograder hidden tests\n",
    "'passed'"
   ]
  },
  {
   "cell_type": "markdown",
   "metadata": {
    "deletable": false,
    "editable": false,
    "nbgrader": {
     "checksum": "f0370f094915aa2c3c2358f365856de4",
     "grade": false,
     "grade_id": "cell-87b7959b0a7ef1e7",
     "locked": true,
     "schema_version": 1,
     "solution": false
    }
   },
   "source": [
    "**Problem 2.**  Analyze the tweet sentiments.  Compute the sentiment for each tweet, which is defined as the positive sentiment minus the negative sentiment. \n",
    "The positive and negative sentiment are defined as the count of (non-unique) positive or negative whole words (not parts of words) in the tweet, using the provided positive and negative word lists.\n",
    "\n",
    "In Answer2, return a 5-tuple containing: \n",
    "(the mean sentiment, mean positive sentiment, and mean negative sentiment of the tweets, \n",
    " the tweet text for the highest sentiment tweet, and its sentiment value)."
   ]
  },
  {
   "cell_type": "code",
   "execution_count": 4,
   "metadata": {
    "deletable": false,
    "nbgrader": {
     "checksum": "a787412fac232cdea9487bbf5f93e459",
     "grade": false,
     "grade_id": "Answer2",
     "locked": false,
     "schema_version": 1,
     "solution": true
    }
   },
   "outputs": [
    {
     "data": {
      "text/plain": [
       "(0.17474859203093732,\n",
       " 0.5073332601555309,\n",
       " 0.33258466812459364,\n",
       " 'RT @marchmadness: Grayson Allen had himself a game.His 25 points (7 threes) lead No. 12 Duke to 74-52 rout of Virginia Tech. https://t.co',\n",
       " 8)"
      ]
     },
     "execution_count": 4,
     "metadata": {},
     "output_type": "execute_result"
    }
   ],
   "source": [
    "### Problem 2\n",
    "# YOUR CODE HERE\n",
    "#raise NotImplementedError()\n",
    "data['positive'] = data.words.apply(lambda words:\n",
    "                                   len([True for w in words if w in positives]))\n",
    "data['negative'] = data.words.apply(lambda words:\n",
    "                                   len([True for w in words if w in negatives]))\n",
    "a = data['positive']\n",
    "b = data['negative']\n",
    "#data['sentiment'] = [a - b for a, b in zip(a,b)]\n",
    "data['sentiment'] = data['positive'] - data['negative']\n",
    "\n",
    "m = max(data.sentiment)\n",
    "'''\n",
    "count = 0\n",
    "for i in data.sentiment:\n",
    "    count = count + 1\n",
    "    if(i == m):\n",
    "        idvalue = count\n",
    "        break\n",
    "'''\n",
    "maxtweet = data.iloc[data.sentiment.idxmax(), 0]\n",
    "Answer2 = [data.sentiment.mean(), a.mean(), b.mean(), maxtweet, m]\n",
    "Answer2 = tuple(Answer2)\n",
    "Answer2"
   ]
  },
  {
   "cell_type": "code",
   "execution_count": 5,
   "metadata": {
    "deletable": false,
    "editable": false,
    "nbgrader": {
     "checksum": "119d295ff013903d78bede903a5f85ed",
     "grade": true,
     "grade_id": "Grade2",
     "locked": true,
     "points": 20,
     "schema_version": 1,
     "solution": false
    }
   },
   "outputs": [
    {
     "data": {
      "text/plain": [
       "'passed'"
      ]
     },
     "execution_count": 5,
     "metadata": {},
     "output_type": "execute_result"
    }
   ],
   "source": [
    "# Problem 2 autograder -- run me\n",
    "nose.tools.assert_is_instance(Answer2, tuple)\n",
    "nose.tools.assert_equal(len(Answer2), 5)\n",
    "nose.tools.assert_almost_equal(Answer2[0], 0.17474859203093732, delta=0.0001)\n",
    "nose.tools.assert_equal(Answer2[4], 8) \n",
    "# autograder hidden tests\n",
    "'passed'"
   ]
  },
  {
   "cell_type": "markdown",
   "metadata": {
    "deletable": false,
    "editable": false,
    "nbgrader": {
     "checksum": "9907ebeafc0006d2bfc3312196f68cd1",
     "grade": false,
     "grade_id": "cell-46cba87b7a59ba4e",
     "locked": true,
     "schema_version": 1,
     "solution": false
    }
   },
   "source": [
    "**Problem 3.**  Analyze the sentiment trends.  Compute the mean tweet sentiments for each date. Hint: you can extract the first 10 characters from the 'datetime' column to obtain the date.\n",
    "\n",
    "Visualize the the means of the sentiment, positive sentiment, and negative sentiment for each date as a timeseries plot with 3 lines.  Use an appropriate color scheme, and labeled axes.\n",
    "\n",
    "In Answer3, return a Pandas Series containing the mean sentiments, indexed and sorted by increasing date.\n",
    "\n",
    "Think: What interesting things do you notice in the plot?"
   ]
  },
  {
   "cell_type": "code",
   "execution_count": 6,
   "metadata": {
    "deletable": false,
    "nbgrader": {
     "checksum": "ec47ae003357db78c6f426de8889d4df",
     "grade": false,
     "grade_id": "Answer3",
     "locked": false,
     "schema_version": 1,
     "solution": true
    }
   },
   "outputs": [
    {
     "data": {
      "image/png": "[encoded data removed]",
      "text/plain": [
       "<Figure size 432x288 with 1 Axes>"
      ]
     },
     "metadata": {},
     "output_type": "display_data"
    }
   ],
   "source": [
    "# Problem 3\n",
    "# YOUR CODE HERE\n",
    "#raise NotImplementedError()\n",
    "data['date'] = data.datetime.str[:10]\n",
    "meansent = data.groupby(by='date').sentiment.mean()\n",
    "meanpos = data.groupby(by='date').positive.mean()\n",
    "meanneg = data.groupby(by='date').negative.mean()\n",
    "meansent.plot()\n",
    "meanpos.plot()\n",
    "meanneg.plot()\n",
    "\n",
    "Answer3 = meansent"
   ]
  },
  {
   "cell_type": "code",
   "execution_count": 7,
   "metadata": {
    "deletable": false,
    "editable": false,
    "nbgrader": {
     "checksum": "3e097280fe5a512bd8398398a8569e4a",
     "grade": true,
     "grade_id": "Grade3",
     "locked": true,
     "points": 20,
     "schema_version": 1,
     "solution": false
    }
   },
   "outputs": [
    {
     "data": {
      "text/plain": [
       "'passed'"
      ]
     },
     "execution_count": 7,
     "metadata": {},
     "output_type": "execute_result"
    }
   ],
   "source": [
    "# Problem 3 autograder -- run me\n",
    "nose.tools.assert_is_instance(Answer3, pandas.Series)\n",
    "nose.tools.assert_equal(len(Answer3), 72)\n",
    "nose.tools.assert_true(Answer3.index.is_monotonic_increasing)\n",
    "nose.tools.assert_almost_equal(Answer3.iloc[0], 0.507607, delta=0.0001)\n",
    "nose.tools.assert_almost_equal(Answer3.iloc[-1], 0.005040, delta=0.0001)\n",
    "# autograder hidden tests\n",
    "'passed'"
   ]
  },
  {
   "cell_type": "markdown",
   "metadata": {
    "deletable": false,
    "editable": false,
    "nbgrader": {
     "checksum": "cb67eeeeaec30b3d188a68f9bc4218b8",
     "grade": false,
     "grade_id": "cell-40d7ad8dbc8b8f7f",
     "locked": true,
     "schema_version": 1,
     "solution": false
    }
   },
   "source": [
    "**Problem 4.**  After seeing the deep valley in the plot, analyze which date has the lowest mean sentiment, and what happened on that date? \n",
    "To explain what likely happened that day, analyze the tweets on that date to identify the most frequently occuring words.\n",
    "\n",
    "In Answer4, return a Pandas Series of the highest 100 word frequencies on that date, indexed by word, sorted by decreasing frequency. The series should be named with the date in string form 'year-mm-dd'."
   ]
  },
  {
   "cell_type": "code",
   "execution_count": 8,
   "metadata": {
    "deletable": false,
    "nbgrader": {
     "checksum": "32ee0273ceb868561d98bcce9e096d38",
     "grade": false,
     "grade_id": "Answer4",
     "locked": false,
     "schema_version": 1,
     "solution": true
    }
   },
   "outputs": [
    {
     "data": {
      "text/plain": [
       "virginia      3230\n",
       "tech          3150\n",
       "rt            2696\n",
       "to            2451\n",
       "t             1953\n",
       "co            1898\n",
       "https         1879\n",
       "student       1759\n",
       "of            1677\n",
       "arrested      1630\n",
       "assault       1508\n",
       "a             1279\n",
       "rounds        1277\n",
       "at            1266\n",
       "buy           1218\n",
       "and           1133\n",
       "trying         996\n",
       "police         921\n",
       "had            906\n",
       "w              906\n",
       "was            841\n",
       "ammo           839\n",
       "after          777\n",
       "rifle          763\n",
       "he             740\n",
       "the            661\n",
       "is             544\n",
       "rifles         535\n",
       "non            517\n",
       "citizen        513\n",
       "              ... \n",
       "cop            157\n",
       "has            150\n",
       "freshman       143\n",
       "attempted      138\n",
       "on             125\n",
       "ammunition     125\n",
       "game           123\n",
       "by             122\n",
       "illegally      121\n",
       "possessing     115\n",
       "that           113\n",
       "possession     113\n",
       "charged        102\n",
       "college         98\n",
       "it              94\n",
       "last            90\n",
       "former          88\n",
       "state           86\n",
       "having          86\n",
       "accused         85\n",
       "i               84\n",
       "via             81\n",
       "been            77\n",
       "gun             77\n",
       "research        75\n",
       "against         73\n",
       "year            73\n",
       "have            72\n",
       "just            69\n",
       "as              69\n",
       "Name: 2018-01-31, Length: 100, dtype: int64"
      ]
     },
     "execution_count": 8,
     "metadata": {},
     "output_type": "execute_result"
    }
   ],
   "source": [
    "# Problem 4\n",
    "# YOUR CODE HERE\n",
    "#raise NotImplementedError()\n",
    "arr4 = []\n",
    "merged = []\n",
    "lowest = Answer3.idxmin()\n",
    "for i in range(len(data['date'])):\n",
    "    if(data['date'][i] == lowest):\n",
    "        arr4.append(data['words'][i])\n",
    "for i in arr4:\n",
    "    merged += i\n",
    "freqTable = pandas.DataFrame()\n",
    "freqTable['keys'] = merged\n",
    "freq = freqTable.apply(lambda bag: pandas.Series(bag).value_counts())\n",
    "freq\n",
    "temp3 = pandas.Series(freq['keys'], name=lowest)\n",
    "temp3 = temp3[0:100]\n",
    "Answer4 = temp3\n",
    "Answer4"
   ]
  },
  {
   "cell_type": "code",
   "execution_count": 9,
   "metadata": {
    "deletable": false,
    "editable": false,
    "nbgrader": {
     "checksum": "7b54d573fd96b8b9fd55fb2b577c9ac2",
     "grade": true,
     "grade_id": "Grade4",
     "locked": true,
     "points": 20,
     "schema_version": 1,
     "solution": false
    }
   },
   "outputs": [
    {
     "data": {
      "text/plain": [
       "'passed'"
      ]
     },
     "execution_count": 9,
     "metadata": {},
     "output_type": "execute_result"
    }
   ],
   "source": [
    "# Problem 4 autograder -- run me\n",
    "nose.tools.assert_is_instance(Answer4, pandas.Series)\n",
    "nose.tools.assert_equal(len(Answer4), 100)\n",
    "nose.tools.assert_true(Answer4.is_monotonic_decreasing)\n",
    "nose.tools.assert_regex(Answer4.name, '2018-0[1-3]-[0-3][0-9]')\n",
    "nose.tools.assert_equal(Answer4['virginia'], 3230)\n",
    "# autograder hidden tests\n",
    "'passed'"
   ]
  },
  {
   "cell_type": "markdown",
   "metadata": {
    "deletable": false,
    "editable": false,
    "nbgrader": {
     "checksum": "2cca2c49a6fef857ea10dcb28fc2031e",
     "grade": false,
     "grade_id": "cell-d73859d236c7f553",
     "locked": true,
     "schema_version": 1,
     "solution": false
    }
   },
   "source": [
    "**Problem 5.**  After seeing the suspicous word 'arrested' on that date, now zoom in to specific tweets to figure out what happened that day.\n",
    "\n",
    "In Answer5, return the tweet text of the first tweet to mention that word (according to the bag of words representation) on that day.\n",
    "\n",
    "Think: Can you find news stories that verify that event?"
   ]
  },
  {
   "cell_type": "code",
   "execution_count": 18,
   "metadata": {
    "deletable": false,
    "nbgrader": {
     "checksum": "ea7eaecc58a8c3c86eedf274c4074f4f",
     "grade": false,
     "grade_id": "Answer5",
     "locked": false,
     "schema_version": 1,
     "solution": true
    }
   },
   "outputs": [
    {
     "data": {
      "text/plain": [
       "'#studentvisa Reports: Virginia Tech freshman arrested for illegally possessing an assault-style rifle https://t.co/17sfro2nEH via @rtdnews'"
      ]
     },
     "execution_count": 18,
     "metadata": {},
     "output_type": "execute_result"
    }
   ],
   "source": [
    "# Problem 5\n",
    "# YOUR CODE HERE\n",
    "#raise NotImplementedError()\n",
    "lowest = Answer3.idxmin()\n",
    "arrestDate = data[data['date'] == lowest].reset_index()\n",
    "ind = -1\n",
    "for i in range(len(arrestDate['words'])):\n",
    "    if(ind == -1):\n",
    "        if(\"arrested\" in arrestDate['words'][i]):\n",
    "            ind = i \n",
    "Answer5 = arrestDate['tweet'][ind]\n",
    "Answer5"
   ]
  },
  {
   "cell_type": "code",
   "execution_count": 19,
   "metadata": {
    "deletable": false,
    "editable": false,
    "nbgrader": {
     "checksum": "9dbdc9cc2654cb6df1826d7db05e3baf",
     "grade": true,
     "grade_id": "Grade5",
     "locked": true,
     "points": 20,
     "schema_version": 1,
     "solution": false
    }
   },
   "outputs": [
    {
     "data": {
      "text/plain": [
       "'passed'"
      ]
     },
     "execution_count": 19,
     "metadata": {},
     "output_type": "execute_result"
    }
   ],
   "source": [
    "# Problem 5 autograder -- run me\n",
    "nose.tools.assert_is_instance(Answer5, str)\n",
    "# autograder hidden tests\n",
    "'passed'"
   ]
  },
  {
   "cell_type": "code",
   "execution_count": null,
   "metadata": {},
   "outputs": [],
   "source": [
    "# scratch space\n"
   ]
  }
 ],
 "metadata": {
  "kernelspec": {
   "display_name": "Python 3",
   "language": "python",
   "name": "python3"
  },
  "language_info": {
   "codemirror_mode": {
    "name": "ipython",
    "version": 3
   },
   "file_extension": ".py",
   "mimetype": "text/x-python",
   "name": "python",
   "nbconvert_exporter": "python",
   "pygments_lexer": "ipython3",
   "version": "3.6.5"
  }
 },
 "nbformat": 4,
 "nbformat_minor": 1
}
